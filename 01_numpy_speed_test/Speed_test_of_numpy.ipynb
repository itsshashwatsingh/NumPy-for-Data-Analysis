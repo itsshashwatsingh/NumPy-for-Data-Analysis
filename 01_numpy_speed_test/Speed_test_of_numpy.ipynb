{
 "cells": [
  {
   "cell_type": "code",
   "execution_count": 1,
   "id": "de33a5a3-4c5b-4248-8dcb-2e9fd9b2799b",
   "metadata": {},
   "outputs": [
    {
     "name": "stdout",
     "output_type": "stream",
     "text": [
      "1.1538989543914795\n"
     ]
    }
   ],
   "source": [
    "# operations using python lists\n",
    "import time\n",
    "size = 1_000_000_0\n",
    "\n",
    "l1 = list(range(size))\n",
    "l2 = list(range(size))\n",
    "\n",
    "start = time.time()\n",
    "add = [x+y for x,y in zip(l1,l2)] # to zip x from l1 and y from l2 together inside tuple in a single list [(a,b)]\n",
    "end = time.time()\n",
    "\n",
    "print(end - start)"
   ]
  },
  {
   "cell_type": "code",
   "execution_count": 5,
   "id": "b6e45d9a-4817-49de-9c2f-99e24cf959bb",
   "metadata": {},
   "outputs": [
    {
     "name": "stdout",
     "output_type": "stream",
     "text": [
      "0.04974532127380371\n"
     ]
    }
   ],
   "source": [
    "# operations using numpy array\n",
    "\n",
    "import numpy as np\n",
    "import time\n",
    "size = 1_000_000_0\n",
    "\n",
    "l1 = np.array(list(range(size)))\n",
    "l2 = np.array(list(range(size)))\n",
    "\n",
    "start = time.time()\n",
    "add = l1+l2\n",
    "end = time.time()\n",
    "\n",
    "print(end-start)"
   ]
  },
  {
   "cell_type": "code",
   "execution_count": 2,
   "id": "4e4029cc-cc5c-4938-a696-62fe57a9caa2",
   "metadata": {},
   "outputs": [
    {
     "name": "stdout",
     "output_type": "stream",
     "text": [
      "[(1, 2), (3, 4), (5, 6), (7, 8)]\n"
     ]
    }
   ],
   "source": [
    "#zip\n",
    "a = [1,3,5,7]\n",
    "b = [2,4,6,8]\n",
    "c= list(zip(a,b))\n",
    "print(c)"
   ]
  },
  {
   "cell_type": "markdown",
   "id": "30fa7f45-b90b-42d5-ada1-f22777905794",
   "metadata": {},
   "source": [
    " to get the speed of numpy array always use all numbers inside the array"
   ]
  },
  {
   "cell_type": "code",
   "execution_count": 6,
   "id": "8398ea8e-6cfc-46ff-9a98-012d2ce88b02",
   "metadata": {},
   "outputs": [
    {
     "data": {
      "text/plain": [
       "array(['1', '2', '3', '4', '5', 'shashwat'], dtype='<U21')"
      ]
     },
     "execution_count": 6,
     "metadata": {},
     "output_type": "execute_result"
    }
   ],
   "source": [
    "np.array([1,2,3,4,5,\"shashwat\"]) # this is not appropriate for better speed"
   ]
  },
  {
   "cell_type": "code",
   "execution_count": 7,
   "id": "e0ee85a5-d9cf-4af8-847c-7d2a74ba77e7",
   "metadata": {},
   "outputs": [
    {
     "data": {
      "text/plain": [
       "array([1, 2, 3, 4, 5])"
      ]
     },
     "execution_count": 7,
     "metadata": {},
     "output_type": "execute_result"
    }
   ],
   "source": [
    "np.array([1,2,3,4,5]) # this is fast"
   ]
  },
  {
   "cell_type": "code",
   "execution_count": 9,
   "id": "0e62b603-0d5f-43f9-b4db-eb5eb290db3f",
   "metadata": {},
   "outputs": [
    {
     "data": {
      "text/plain": [
       "array([[1, 2, 3],\n",
       "       [3, 4, 5]])"
      ]
     },
     "execution_count": 9,
     "metadata": {},
     "output_type": "execute_result"
    }
   ],
   "source": [
    "np.array([[1,2,3],[3,4,5]])  #this is a 2d array where we have array inside array"
   ]
  },
  {
   "cell_type": "code",
   "execution_count": 10,
   "id": "9630c6b2-5890-4ec4-908f-f887932ef21b",
   "metadata": {},
   "outputs": [
    {
     "ename": "ValueError",
     "evalue": "setting an array element with a sequence. The requested array has an inhomogeneous shape after 1 dimensions. The detected shape was (2,) + inhomogeneous part.",
     "output_type": "error",
     "traceback": [
      "\u001b[31m---------------------------------------------------------------------------\u001b[39m",
      "\u001b[31mValueError\u001b[39m                                Traceback (most recent call last)",
      "\u001b[36mCell\u001b[39m\u001b[36m \u001b[39m\u001b[32mIn[10]\u001b[39m\u001b[32m, line 1\u001b[39m\n\u001b[32m----> \u001b[39m\u001b[32m1\u001b[39m np.array([[\u001b[32m1\u001b[39m,\u001b[32m2\u001b[39m,\u001b[32m3\u001b[39m],[\u001b[32m3\u001b[39m,\u001b[32m4\u001b[39m,\u001b[32m5\u001b[39m,\u001b[32m6\u001b[39m]])\n",
      "\u001b[31mValueError\u001b[39m: setting an array element with a sequence. The requested array has an inhomogeneous shape after 1 dimensions. The detected shape was (2,) + inhomogeneous part."
     ]
    }
   ],
   "source": [
    "np.array([[1,2,3],[3,4,5,6]]) "
   ]
  },
  {
   "cell_type": "markdown",
   "id": "574c565f-c107-4f04-9a9f-45140659c776",
   "metadata": {},
   "source": [
    "this error occurs cuz of rules set for arrays where we cant make subarrays with different length or different number of elements inside different subarrays which is common with list"
   ]
  },
  {
   "cell_type": "markdown",
   "id": "2d7c038e-f483-4683-8413-37c21d157101",
   "metadata": {},
   "source": [
    "### memeory by np array"
   ]
  },
  {
   "cell_type": "code",
   "execution_count": 12,
   "id": "4a328132-00c9-4c98-8114-e620b7325359",
   "metadata": {},
   "outputs": [
    {
     "name": "stdout",
     "output_type": "stream",
     "text": [
      "Python list size: 8056000 bytes\n",
      "NumPy array size: 8000 bytes\n"
     ]
    }
   ],
   "source": [
    "import sys\n",
    "\n",
    "list_data = list(range(1000))\n",
    "numpy_data = np.array(list_data)\n",
    "\n",
    "print(\"Python list size:\", sys.getsizeof(list_data) * len(list_data), \"bytes\")\n",
    "print(\"NumPy array size:\", numpy_data.nbytes, \"bytes\")"
   ]
  },
  {
   "cell_type": "markdown",
   "id": "28c74649-3980-4eac-ac95-9b756338e304",
   "metadata": {},
   "source": [
    "No loop needed to perform operations in arrays since we can directly perform operations in entire array at once"
   ]
  },
  {
   "cell_type": "code",
   "execution_count": 22,
   "id": "f48b8939-fcde-4b7f-94c8-af2b7dad999e",
   "metadata": {},
   "outputs": [
    {
     "name": "stdout",
     "output_type": "stream",
     "text": [
      "1.609053373336792\n"
     ]
    }
   ],
   "source": [
    "start = time.time()\n",
    "x = [ a**2 for a in range(10000000)] \n",
    "end = time.time()\n",
    "print(end-start)"
   ]
  },
  {
   "cell_type": "code",
   "execution_count": 24,
   "id": "f3de6648-3d23-49b7-a3c8-6d2a8f112778",
   "metadata": {},
   "outputs": [
    {
     "name": "stdout",
     "output_type": "stream",
     "text": [
      "1.1544463634490967\n"
     ]
    }
   ],
   "source": [
    "start = time.time()\n",
    "np.array(x)**2\n",
    "end = time.time()\n",
    "print(end-start)"
   ]
  },
  {
   "cell_type": "markdown",
   "id": "f3a1fdbe-cc32-4b48-a0f4-c1f5c617801a",
   "metadata": {},
   "source": [
    "as we can see np array is faster"
   ]
  },
  {
   "cell_type": "code",
   "execution_count": null,
   "id": "d4a04e06-2837-4ab1-a6c2-f7179df537b6",
   "metadata": {},
   "outputs": [],
   "source": []
  }
 ],
 "metadata": {
  "kernelspec": {
   "display_name": "Python 3 (ipykernel)",
   "language": "python",
   "name": "python3"
  },
  "language_info": {
   "codemirror_mode": {
    "name": "ipython",
    "version": 3
   },
   "file_extension": ".py",
   "mimetype": "text/x-python",
   "name": "python",
   "nbconvert_exporter": "python",
   "pygments_lexer": "ipython3",
   "version": "3.13.5"
  }
 },
 "nbformat": 4,
 "nbformat_minor": 5
}
