{
 "cells": [
  {
   "cell_type": "markdown",
   "id": "ceea8de8-e55a-4b18-be44-e0395711dff9",
   "metadata": {},
   "source": [
    "# Built in Mathematical functions in Numpy\n",
    "Here are some common NumPy methods that are frequently used for statistical and mathematical operations:\n",
    "\n",
    "1. **`np.mean()`** – Compute the **mean** (average) of an array.\n",
    "   ```python\n",
    "   np.mean(arr)\n",
    "   ```\n",
    "\n",
    "2. **`np.std()`** – Compute the **standard deviation** of an array.\n",
    "   ```python\n",
    "   np.std(arr)\n",
    "   ```\n",
    "\n",
    "3. **`np.var()`** – Compute the **variance** of an array.\n",
    "   ```python\n",
    "   np.var(arr)\n",
    "   ```\n",
    "\n",
    "4. **`np.min()`** – Compute the **minimum** value of an array.\n",
    "   ```python\n",
    "   np.min(arr)\n",
    "   ```\n",
    "\n",
    "5. **`np.max()`** – Compute the **maximum** value of an array.\n",
    "   ```python\n",
    "   np.max(arr)\n",
    "   ```\n",
    "\n",
    "6. **`np.sum()`** – Compute the **sum** of all elements in an array.\n",
    "   ```python\n",
    "   np.sum(arr)\n",
    "   ```\n",
    "\n",
    "7. **`np.prod()`** – Compute the **product** of all elements in an array.\n",
    "   ```python\n",
    "   np.prod(arr)\n",
    "   ```\n",
    "\n",
    "8. **`np.median()`** – Compute the **median** of an array.\n",
    "   ```python\n",
    "   np.median(arr)\n",
    "   ```\n",
    "\n",
    "9. **`np.percentile()`** – Compute the **percentile** of an array.\n",
    "   ```python\n",
    "   np.percentile(arr, 50)  # For the 50th percentile (median)\n",
    "   ```\n",
    "\n",
    "10. **`np.argmin()`** – Return the **index of the minimum** value in an array.\n",
    "    ```python\n",
    "    np.argmin(arr)\n",
    "    ```\n",
    "\n",
    "11. **`np.argmax()`** – Return the **index of the maximum** value in an array.\n",
    "    ```python\n",
    "    np.argmax(arr)\n",
    "    ```\n",
    "\n",
    "12. **`np.corrcoef()`** – Compute the **correlation coefficient** matrix of two arrays.\n",
    "    ```python\n",
    "    np.corrcoef(arr1, arr2)\n",
    "    ```\n",
    "\n",
    "13. **`np.unique()`** – Find the **unique elements** of an array.\n",
    "    ```python\n",
    "    np.unique(arr)\n",
    "    ```\n",
    "\n",
    "14. **`np.diff()`** – Compute the **n-th differences** of an array.\n",
    "    ```python\n",
    "    np.diff(arr)\n",
    "    ```\n",
    "\n",
    "15. **`np.cumsum()`** – Compute the **cumulative sum** of an array.\n",
    "    ```python\n",
    "    np.cumsum(arr)\n",
    "    ```\n",
    "\n",
    "16. **`np.linspace()`** – Create an array with **evenly spaced numbers** over a specified interval.\n",
    "    ```python\n",
    "    np.linspace(0, 10, 5)  # 5 numbers from 0 to 10\n",
    "    ```\n",
    "\n",
    "17. **`np.log()`** – Compute the **natural logarithm** of an array.\n",
    "    ```python\n",
    "    np.log(arr)\n",
    "    ```\n",
    "\n",
    "18. **`np.exp()`** – Compute the **exponential** of an array.\n",
    "    ```python\n",
    "    np.exp(arr)\n",
    "    ```\n",
    "\n",
    "These methods are used for performing mathematical and statistical operations with NumPy"
   ]
  },
  {
   "cell_type": "code",
   "execution_count": 1,
   "id": "891d78dd-9985-4c49-a752-d3bfb11f9b79",
   "metadata": {},
   "outputs": [],
   "source": [
    "import numpy as np"
   ]
  },
  {
   "cell_type": "code",
   "execution_count": 2,
   "id": "88edacbc-a070-4118-bed1-8416a09fd4b1",
   "metadata": {},
   "outputs": [],
   "source": [
    "arr = np.array([2,3,4,5,8])"
   ]
  },
  {
   "cell_type": "code",
   "execution_count": 3,
   "id": "0abb12d3-fc13-4651-ade7-f63d447d71a9",
   "metadata": {},
   "outputs": [
    {
     "data": {
      "text/plain": [
       "np.float64(4.4)"
      ]
     },
     "execution_count": 3,
     "metadata": {},
     "output_type": "execute_result"
    }
   ],
   "source": [
    "np.mean(arr)"
   ]
  },
  {
   "cell_type": "code",
   "execution_count": 4,
   "id": "f574eeec-f23f-4323-ab25-36b5d47337e9",
   "metadata": {},
   "outputs": [
    {
     "data": {
      "text/plain": [
       "np.int64(8)"
      ]
     },
     "execution_count": 4,
     "metadata": {},
     "output_type": "execute_result"
    }
   ],
   "source": [
    "np.max(arr)"
   ]
  },
  {
   "cell_type": "code",
   "execution_count": 5,
   "id": "d4e00853-5a55-4b22-a709-6a6a26cf0c24",
   "metadata": {},
   "outputs": [
    {
     "data": {
      "text/plain": [
       "np.int64(2)"
      ]
     },
     "execution_count": 5,
     "metadata": {},
     "output_type": "execute_result"
    }
   ],
   "source": [
    "np.min(arr)"
   ]
  },
  {
   "cell_type": "code",
   "execution_count": 6,
   "id": "76cdb15e-3079-4513-8b88-0b9dc2c069e3",
   "metadata": {},
   "outputs": [
    {
     "data": {
      "text/plain": [
       "np.float64(2.0591260281974)"
      ]
     },
     "execution_count": 6,
     "metadata": {},
     "output_type": "execute_result"
    }
   ],
   "source": [
    "np.std(arr)"
   ]
  },
  {
   "cell_type": "code",
   "execution_count": 7,
   "id": "8676c8fc-ca0a-49aa-a047-3fcbc38ebe42",
   "metadata": {},
   "outputs": [
    {
     "data": {
      "text/plain": [
       "np.float64(4.24)"
      ]
     },
     "execution_count": 7,
     "metadata": {},
     "output_type": "execute_result"
    }
   ],
   "source": [
    "np.var(arr)"
   ]
  },
  {
   "cell_type": "code",
   "execution_count": 8,
   "id": "648de5a3-cfad-4443-a93a-aa11e8d61a78",
   "metadata": {},
   "outputs": [
    {
     "data": {
      "text/plain": [
       "np.int64(22)"
      ]
     },
     "execution_count": 8,
     "metadata": {},
     "output_type": "execute_result"
    }
   ],
   "source": [
    "np.sum(arr)"
   ]
  },
  {
   "cell_type": "code",
   "execution_count": 9,
   "id": "d36ea94f-8120-459b-bfc5-16136f6ac521",
   "metadata": {},
   "outputs": [
    {
     "data": {
      "text/plain": [
       "np.int64(960)"
      ]
     },
     "execution_count": 9,
     "metadata": {},
     "output_type": "execute_result"
    }
   ],
   "source": [
    "np.prod(arr)"
   ]
  },
  {
   "cell_type": "code",
   "execution_count": 10,
   "id": "371aca64-1acc-4732-b545-1904fa167168",
   "metadata": {},
   "outputs": [
    {
     "data": {
      "text/plain": [
       "np.float64(4.0)"
      ]
     },
     "execution_count": 10,
     "metadata": {},
     "output_type": "execute_result"
    }
   ],
   "source": [
    "np.median(arr)"
   ]
  },
  {
   "cell_type": "code",
   "execution_count": 11,
   "id": "997b7a11-cfaa-4ea9-bebe-0d33263dfd93",
   "metadata": {},
   "outputs": [
    {
     "data": {
      "text/plain": [
       "np.float64(4.0)"
      ]
     },
     "execution_count": 11,
     "metadata": {},
     "output_type": "execute_result"
    }
   ],
   "source": [
    "np.percentile(arr,50)"
   ]
  },
  {
   "cell_type": "code",
   "execution_count": 14,
   "id": "9c6c4923-cde7-4b34-b2d7-03ef8d8c4204",
   "metadata": {},
   "outputs": [
    {
     "data": {
      "text/plain": [
       "np.int64(0)"
      ]
     },
     "execution_count": 14,
     "metadata": {},
     "output_type": "execute_result"
    }
   ],
   "source": [
    "np.argmin(arr) # gets the min value index"
   ]
  },
  {
   "cell_type": "code",
   "execution_count": 16,
   "id": "4e9369f8-66d1-497e-b089-b85a6095fbc4",
   "metadata": {},
   "outputs": [
    {
     "data": {
      "text/plain": [
       "np.int64(4)"
      ]
     },
     "execution_count": 16,
     "metadata": {},
     "output_type": "execute_result"
    }
   ],
   "source": [
    "np.argmax(arr) # gets the max value index"
   ]
  },
  {
   "cell_type": "code",
   "execution_count": 17,
   "id": "10de6d54-388b-413c-96f2-8ad101ad4322",
   "metadata": {},
   "outputs": [
    {
     "data": {
      "text/plain": [
       "array([2, 3, 4, 5, 8])"
      ]
     },
     "execution_count": 17,
     "metadata": {},
     "output_type": "execute_result"
    }
   ],
   "source": [
    "np.unique(arr)"
   ]
  },
  {
   "cell_type": "code",
   "execution_count": 18,
   "id": "07c8cc98-8803-45c7-ad29-1a32cbd87129",
   "metadata": {},
   "outputs": [
    {
     "data": {
      "text/plain": [
       "array([ 2,  5,  9, 14, 22])"
      ]
     },
     "execution_count": 18,
     "metadata": {},
     "output_type": "execute_result"
    }
   ],
   "source": [
    "np.cumsum(arr)"
   ]
  },
  {
   "cell_type": "code",
   "execution_count": null,
   "id": "b613939e-8535-420e-b70e-123247d680a2",
   "metadata": {},
   "outputs": [],
   "source": []
  }
 ],
 "metadata": {
  "kernelspec": {
   "display_name": "Python 3 (ipykernel)",
   "language": "python",
   "name": "python3"
  },
  "language_info": {
   "codemirror_mode": {
    "name": "ipython",
    "version": 3
   },
   "file_extension": ".py",
   "mimetype": "text/x-python",
   "name": "python",
   "nbconvert_exporter": "python",
   "pygments_lexer": "ipython3",
   "version": "3.13.5"
  }
 },
 "nbformat": 4,
 "nbformat_minor": 5
}
