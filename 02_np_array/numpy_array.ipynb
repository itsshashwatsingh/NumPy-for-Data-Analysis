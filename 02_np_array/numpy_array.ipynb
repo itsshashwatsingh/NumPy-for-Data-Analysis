{
 "cells": [
  {
   "cell_type": "markdown",
   "id": "0863d8a5-1171-4a1d-8fce-d68d95328e98",
   "metadata": {},
   "source": [
    "lets create an np array"
   ]
  },
  {
   "cell_type": "code",
   "execution_count": 1,
   "id": "f7259dff-8fc5-4ba1-92b9-9a261dab9376",
   "metadata": {},
   "outputs": [
    {
     "data": {
      "text/plain": [
       "array([1, 2, 3, 4, 5, 6])"
      ]
     },
     "execution_count": 1,
     "metadata": {},
     "output_type": "execute_result"
    }
   ],
   "source": [
    "import numpy as np\n",
    "\n",
    "np.array([1,2,3,4,5,6])"
   ]
  },
  {
   "cell_type": "code",
   "execution_count": 8,
   "id": "1a94c15c-b50f-43cd-bbce-cd15396c5ea6",
   "metadata": {},
   "outputs": [],
   "source": [
    "a = np.array([[1,2,3],[2,4,6]])# unlike lists all element must have same data type"
   ]
  },
  {
   "cell_type": "code",
   "execution_count": 12,
   "id": "cc8b651f-5fd5-45d3-bc71-f6def83ca3cb",
   "metadata": {},
   "outputs": [
    {
     "name": "stdout",
     "output_type": "stream",
     "text": [
      "[[1 2 3]\n",
      " [2 4 6]]\n"
     ]
    },
    {
     "data": {
      "text/plain": [
       "(2, 3)"
      ]
     },
     "execution_count": 12,
     "metadata": {},
     "output_type": "execute_result"
    }
   ],
   "source": [
    "print(a)\n",
    "type(a)\n",
    "a.shape # no of rows and columns"
   ]
  },
  {
   "cell_type": "markdown",
   "id": "6d99e03f-d3e5-4086-aca4-cfe69c29dee9",
   "metadata": {},
   "source": [
    "## create arrays from scratch"
   ]
  },
  {
   "cell_type": "code",
   "execution_count": 7,
   "id": "56282e4f-75be-4375-8d62-9a7b5ff5ce3f",
   "metadata": {},
   "outputs": [
    {
     "data": {
      "text/plain": [
       "array([[0., 0., 0.],\n",
       "       [0., 0., 0.],\n",
       "       [0., 0., 0.]])"
      ]
     },
     "execution_count": 7,
     "metadata": {},
     "output_type": "execute_result"
    }
   ],
   "source": [
    " np.zeros((3,3)) #give the rows and column inside a tuple"
   ]
  },
  {
   "cell_type": "code",
   "execution_count": 13,
   "id": "0f9df7e4-fd60-472c-aaef-4e6505b899f2",
   "metadata": {},
   "outputs": [
    {
     "data": {
      "text/plain": [
       "array([[1., 1., 1., 1., 1.],\n",
       "       [1., 1., 1., 1., 1.],\n",
       "       [1., 1., 1., 1., 1.],\n",
       "       [1., 1., 1., 1., 1.]])"
      ]
     },
     "execution_count": 13,
     "metadata": {},
     "output_type": "execute_result"
    }
   ],
   "source": [
    "np.ones((4,5))"
   ]
  },
  {
   "cell_type": "code",
   "execution_count": 14,
   "id": "e153e476-4d8d-48be-9e7e-30caa296b63f",
   "metadata": {},
   "outputs": [
    {
     "data": {
      "text/plain": [
       "array([[3, 3, 3, 3, 3],\n",
       "       [3, 3, 3, 3, 3],\n",
       "       [3, 3, 3, 3, 3],\n",
       "       [3, 3, 3, 3, 3]])"
      ]
     },
     "execution_count": 14,
     "metadata": {},
     "output_type": "execute_result"
    }
   ],
   "source": [
    "np.full((4,5),3)"
   ]
  },
  {
   "cell_type": "code",
   "execution_count": 16,
   "id": "eca91a6e-2875-4c5a-8861-a77161ba632a",
   "metadata": {},
   "outputs": [
    {
     "data": {
      "text/plain": [
       "array([[1., 0., 0.],\n",
       "       [0., 1., 0.],\n",
       "       [0., 0., 1.]])"
      ]
     },
     "execution_count": 16,
     "metadata": {},
     "output_type": "execute_result"
    }
   ],
   "source": [
    "np.eye(3)"
   ]
  },
  {
   "cell_type": "markdown",
   "id": "dc2dd101-548b-4f29-a2e7-724485476677",
   "metadata": {},
   "source": [
    "# set range and generate series of array"
   ]
  },
  {
   "cell_type": "code",
   "execution_count": 23,
   "id": "f8591693-d4c2-46d2-b264-aece6e63044c",
   "metadata": {},
   "outputs": [
    {
     "data": {
      "text/plain": [
       "array([1, 2, 3, 4, 5, 6, 7, 8, 9])"
      ]
     },
     "execution_count": 23,
     "metadata": {},
     "output_type": "execute_result"
    }
   ],
   "source": [
    "np.arange(1,10)"
   ]
  },
  {
   "cell_type": "code",
   "execution_count": 24,
   "id": "eaedb5b4-fb9d-4708-a28f-676f32c3bee9",
   "metadata": {},
   "outputs": [
    {
     "data": {
      "text/plain": [
       "array([1, 3, 5, 7, 9])"
      ]
     },
     "execution_count": 24,
     "metadata": {},
     "output_type": "execute_result"
    }
   ],
   "source": [
    "np.arange(1,11,2)"
   ]
  },
  {
   "cell_type": "code",
   "execution_count": 26,
   "id": "af2fcd29-b344-4d4d-a462-41d5d1a5b069",
   "metadata": {},
   "outputs": [
    {
     "data": {
      "text/plain": [
       "array([  1.  ,  25.75,  50.5 ,  75.25, 100.  ])"
      ]
     },
     "execution_count": 26,
     "metadata": {},
     "output_type": "execute_result"
    }
   ],
   "source": [
    "np.linspace(1,100,5) # gives evenly spaced values "
   ]
  },
  {
   "cell_type": "code",
   "execution_count": 28,
   "id": "251945f5-fc63-4894-b8ac-1d015b94b1f2",
   "metadata": {},
   "outputs": [],
   "source": [
    "myarray = np.array([[1,2,3,4],[2,4,6,8],[4,5,6,7]])"
   ]
  },
  {
   "cell_type": "code",
   "execution_count": 33,
   "id": "9f6bad22-2c29-4404-8d20-f8b5d35b79ea",
   "metadata": {},
   "outputs": [
    {
     "data": {
      "text/plain": [
       "array([[1, 2, 3, 4],\n",
       "       [2, 4, 6, 8],\n",
       "       [4, 5, 6, 7]])"
      ]
     },
     "execution_count": 33,
     "metadata": {},
     "output_type": "execute_result"
    }
   ],
   "source": [
    "myarray"
   ]
  },
  {
   "cell_type": "code",
   "execution_count": 29,
   "id": "893903de-8aaa-4ab2-99e1-69e82f64f924",
   "metadata": {},
   "outputs": [
    {
     "data": {
      "text/plain": [
       "(3, 4)"
      ]
     },
     "execution_count": 29,
     "metadata": {},
     "output_type": "execute_result"
    }
   ],
   "source": [
    "myarray.shape"
   ]
  },
  {
   "cell_type": "code",
   "execution_count": 30,
   "id": "ef398770-4d23-4b93-92bf-e969a2b1ed39",
   "metadata": {},
   "outputs": [
    {
     "data": {
      "text/plain": [
       "12"
      ]
     },
     "execution_count": 30,
     "metadata": {},
     "output_type": "execute_result"
    }
   ],
   "source": [
    "myarray.size"
   ]
  },
  {
   "cell_type": "code",
   "execution_count": 31,
   "id": "866c2b0c-82cb-4ce0-8aec-d9d166a2957e",
   "metadata": {},
   "outputs": [
    {
     "data": {
      "text/plain": [
       "2"
      ]
     },
     "execution_count": 31,
     "metadata": {},
     "output_type": "execute_result"
    }
   ],
   "source": [
    "myarray.ndim # 2 / since its a 2D array"
   ]
  },
  {
   "cell_type": "code",
   "execution_count": 32,
   "id": "5aaa85ce-9a56-4c8b-9c4e-ad2f81d4bb82",
   "metadata": {},
   "outputs": [
    {
     "data": {
      "text/plain": [
       "dtype('int64')"
      ]
     },
     "execution_count": 32,
     "metadata": {},
     "output_type": "execute_result"
    }
   ],
   "source": [
    "myarray.dtype # internally stored memory allocated as integer using 64 bits storage space"
   ]
  },
  {
   "cell_type": "code",
   "execution_count": 38,
   "id": "6baf0c3d-0717-4402-ad40-f1ecee5726d3",
   "metadata": {},
   "outputs": [],
   "source": [
    "myarray = np.array([[1,2,3,4],[2,4,6,8],[4,5,6,7]] , dtype = 'float32') # we can also change the dtype to float32 or float64"
   ]
  },
  {
   "cell_type": "code",
   "execution_count": 39,
   "id": "7be115e7-307d-414f-aa1d-6b284dedaa2f",
   "metadata": {},
   "outputs": [
    {
     "data": {
      "text/plain": [
       "array([[1., 2., 3., 4.],\n",
       "       [2., 4., 6., 8.],\n",
       "       [4., 5., 6., 7.]], dtype=float32)"
      ]
     },
     "execution_count": 39,
     "metadata": {},
     "output_type": "execute_result"
    }
   ],
   "source": [
    "myarray"
   ]
  },
  {
   "cell_type": "code",
   "execution_count": 40,
   "id": "46bdd7f2-6164-4a23-9be6-ff814baeaf9b",
   "metadata": {},
   "outputs": [
    {
     "data": {
      "text/plain": [
       "(3, 4)"
      ]
     },
     "execution_count": 40,
     "metadata": {},
     "output_type": "execute_result"
    }
   ],
   "source": [
    "myarray.shape"
   ]
  },
  {
   "cell_type": "code",
   "execution_count": 41,
   "id": "61c9667a-9c50-4a33-8338-0ffb7d591258",
   "metadata": {},
   "outputs": [
    {
     "data": {
      "text/plain": [
       "array([[1., 2., 3.],\n",
       "       [4., 2., 4.],\n",
       "       [6., 8., 4.],\n",
       "       [5., 6., 7.]], dtype=float32)"
      ]
     },
     "execution_count": 41,
     "metadata": {},
     "output_type": "execute_result"
    }
   ],
   "source": [
    "myarray.reshape((4,3)) # we can shange the shape of array aswell "
   ]
  },
  {
   "cell_type": "code",
   "execution_count": 42,
   "id": "4acb07c1-6eb7-43df-b6f8-9b7e3b89450d",
   "metadata": {},
   "outputs": [
    {
     "data": {
      "text/plain": [
       "array([[1., 2.],\n",
       "       [3., 4.],\n",
       "       [2., 4.],\n",
       "       [6., 8.],\n",
       "       [4., 5.],\n",
       "       [6., 7.]], dtype=float32)"
      ]
     },
     "execution_count": 42,
     "metadata": {},
     "output_type": "execute_result"
    }
   ],
   "source": [
    "myarray.reshape((6,2))"
   ]
  },
  {
   "cell_type": "markdown",
   "id": "c442be4e-cc48-4e31-9fdd-52a141c3dbca",
   "metadata": {},
   "source": [
    "total number of elements should be same"
   ]
  },
  {
   "cell_type": "code",
   "execution_count": 46,
   "id": "f8f7375e-ddec-4fd2-b27b-5ec377d92612",
   "metadata": {},
   "outputs": [
    {
     "data": {
      "text/plain": [
       "array([1., 2., 3., 4., 2., 4., 6., 8., 4., 5., 6., 7.], dtype=float32)"
      ]
     },
     "execution_count": 46,
     "metadata": {},
     "output_type": "execute_result"
    }
   ],
   "source": [
    "myarray.flatten() #flatten the 2d array to 1d"
   ]
  }
 ],
 "metadata": {
  "kernelspec": {
   "display_name": "Python 3 (ipykernel)",
   "language": "python",
   "name": "python3"
  },
  "language_info": {
   "codemirror_mode": {
    "name": "ipython",
    "version": 3
   },
   "file_extension": ".py",
   "mimetype": "text/x-python",
   "name": "python",
   "nbconvert_exporter": "python",
   "pygments_lexer": "ipython3",
   "version": "3.13.5"
  }
 },
 "nbformat": 4,
 "nbformat_minor": 5
}
