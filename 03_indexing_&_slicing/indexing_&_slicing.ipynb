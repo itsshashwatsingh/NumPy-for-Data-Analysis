{
 "cells": [
  {
   "cell_type": "code",
   "execution_count": 1,
   "id": "5cf22185-b406-4ad4-8cea-ac29310be0b3",
   "metadata": {},
   "outputs": [],
   "source": [
    "import numpy as np\n",
    "myarray = np.array([[1,2,3,4],[2,4,6,8],[4,5,6,7]])"
   ]
  },
  {
   "cell_type": "code",
   "execution_count": 2,
   "id": "b5198b3b-0fb0-4aa8-9ee2-16c36b28b356",
   "metadata": {},
   "outputs": [
    {
     "data": {
      "text/plain": [
       "array([[1, 2, 3, 4],\n",
       "       [2, 4, 6, 8],\n",
       "       [4, 5, 6, 7]])"
      ]
     },
     "execution_count": 2,
     "metadata": {},
     "output_type": "execute_result"
    }
   ],
   "source": [
    "myarray"
   ]
  },
  {
   "cell_type": "code",
   "execution_count": 4,
   "id": "4942d521-b5a4-45ed-bb51-72f353bf055e",
   "metadata": {},
   "outputs": [],
   "source": [
    "flat = myarray.flatten()"
   ]
  },
  {
   "cell_type": "code",
   "execution_count": 5,
   "id": "9f150ea2-dda9-46bc-a451-11a9dc70fb88",
   "metadata": {},
   "outputs": [
    {
     "data": {
      "text/plain": [
       "array([1, 2, 3, 4, 2, 4, 6, 8, 4, 5, 6, 7])"
      ]
     },
     "execution_count": 5,
     "metadata": {},
     "output_type": "execute_result"
    }
   ],
   "source": [
    "flat"
   ]
  },
  {
   "cell_type": "code",
   "execution_count": 11,
   "id": "ff2b2eb4-3bce-4b74-9a1a-b1d39f269268",
   "metadata": {},
   "outputs": [
    {
     "data": {
      "text/plain": [
       "np.int64(1)"
      ]
     },
     "execution_count": 11,
     "metadata": {},
     "output_type": "execute_result"
    }
   ],
   "source": [
    "flat[0]"
   ]
  },
  {
   "cell_type": "code",
   "execution_count": 8,
   "id": "22c39248-0335-457a-a9a3-d5ce43d28f9e",
   "metadata": {},
   "outputs": [
    {
     "data": {
      "text/plain": [
       "array([4, 2, 4])"
      ]
     },
     "execution_count": 8,
     "metadata": {},
     "output_type": "execute_result"
    }
   ],
   "source": [
    "flat[3:6]"
   ]
  },
  {
   "cell_type": "code",
   "execution_count": 13,
   "id": "648f1125-437e-445f-8863-d758efef5ef8",
   "metadata": {},
   "outputs": [
    {
     "data": {
      "text/plain": [
       "array([1, 4, 6, 5])"
      ]
     },
     "execution_count": 13,
     "metadata": {},
     "output_type": "execute_result"
    }
   ],
   "source": [
    "flat[::3] # every 3rd element"
   ]
  },
  {
   "cell_type": "markdown",
   "id": "97cecaff-1906-4155-847f-668ee227afbd",
   "metadata": {},
   "source": [
    "array does not make a copy of existing element when we assign it to a different variable (if made changes in different variable array element which is obtained from existing orignal array, orignal variable array element changes as well"
   ]
  },
  {
   "cell_type": "code",
   "execution_count": 14,
   "id": "77ab7be1-d9a3-45d1-8bd4-ae706a4d162b",
   "metadata": {},
   "outputs": [],
   "source": [
    "v = flat[3:8]"
   ]
  },
  {
   "cell_type": "code",
   "execution_count": 15,
   "id": "fe437c33-e1c2-4689-9132-e721ece6118d",
   "metadata": {},
   "outputs": [
    {
     "data": {
      "text/plain": [
       "array([4, 2, 4, 6, 8])"
      ]
     },
     "execution_count": 15,
     "metadata": {},
     "output_type": "execute_result"
    }
   ],
   "source": [
    "v"
   ]
  },
  {
   "cell_type": "code",
   "execution_count": 16,
   "id": "a97f1e62-45da-45c7-9597-6d6f50e04ada",
   "metadata": {},
   "outputs": [],
   "source": [
    "v[0] = 4444444"
   ]
  },
  {
   "cell_type": "code",
   "execution_count": 17,
   "id": "0f26abe6-1cc2-4854-b658-f0c05ae2cbef",
   "metadata": {},
   "outputs": [
    {
     "data": {
      "text/plain": [
       "array([4444444,       2,       4,       6,       8])"
      ]
     },
     "execution_count": 17,
     "metadata": {},
     "output_type": "execute_result"
    }
   ],
   "source": [
    "v"
   ]
  },
  {
   "cell_type": "code",
   "execution_count": 18,
   "id": "53793985-dddd-4e4a-aca3-184cd2430a36",
   "metadata": {},
   "outputs": [
    {
     "data": {
      "text/plain": [
       "array([      1,       2,       3, 4444444,       2,       4,       6,\n",
       "             8,       4,       5,       6,       7])"
      ]
     },
     "execution_count": 18,
     "metadata": {},
     "output_type": "execute_result"
    }
   ],
   "source": [
    "flat"
   ]
  },
  {
   "cell_type": "markdown",
   "id": "d3492030-9a00-4061-9765-793076d304bc",
   "metadata": {},
   "source": [
    "as we can see orignal existing array element changes as well"
   ]
  },
  {
   "cell_type": "markdown",
   "id": "610e5056-cc3e-4fa2-a54f-ea8d87ae6456",
   "metadata": {},
   "source": [
    "if we dont want this we can use copy method"
   ]
  },
  {
   "cell_type": "code",
   "execution_count": 19,
   "id": "0cad30d2-55b0-4216-b3f3-980b5047871b",
   "metadata": {},
   "outputs": [],
   "source": [
    "a = flat[3:8].copy()"
   ]
  },
  {
   "cell_type": "code",
   "execution_count": 20,
   "id": "1c76247f-7690-4a35-bb7f-c2f4bf7cb897",
   "metadata": {},
   "outputs": [
    {
     "data": {
      "text/plain": [
       "array([4444444,       2,       4,       6,       8])"
      ]
     },
     "execution_count": 20,
     "metadata": {},
     "output_type": "execute_result"
    }
   ],
   "source": [
    "a"
   ]
  },
  {
   "cell_type": "code",
   "execution_count": 21,
   "id": "1a7b11b3-aa8d-4c33-8af0-315fa2ef2b51",
   "metadata": {},
   "outputs": [],
   "source": [
    "a[0] = 6666666"
   ]
  },
  {
   "cell_type": "code",
   "execution_count": 22,
   "id": "df216e3a-5a98-4863-99d6-a9d1addcc716",
   "metadata": {},
   "outputs": [
    {
     "data": {
      "text/plain": [
       "array([6666666,       2,       4,       6,       8])"
      ]
     },
     "execution_count": 22,
     "metadata": {},
     "output_type": "execute_result"
    }
   ],
   "source": [
    "a"
   ]
  },
  {
   "cell_type": "code",
   "execution_count": 23,
   "id": "61439089-46d3-46ee-8042-6a82449fd754",
   "metadata": {},
   "outputs": [
    {
     "data": {
      "text/plain": [
       "array([      1,       2,       3, 4444444,       2,       4,       6,\n",
       "             8,       4,       5,       6,       7])"
      ]
     },
     "execution_count": 23,
     "metadata": {},
     "output_type": "execute_result"
    }
   ],
   "source": [
    "flat"
   ]
  },
  {
   "cell_type": "markdown",
   "id": "387620c3-235b-4ed9-bf91-96b180f9f3d5",
   "metadata": {},
   "source": [
    "as we can see the flat array element remains the same this time"
   ]
  },
  {
   "cell_type": "markdown",
   "id": "d7e614e2-2d0d-42c8-8c3d-5ad2b2e8c8d5",
   "metadata": {},
   "source": [
    "we can do slicing like this as well"
   ]
  },
  {
   "cell_type": "code",
   "execution_count": 24,
   "id": "d3d11914-2983-4a84-ab81-546dae5d772c",
   "metadata": {},
   "outputs": [
    {
     "data": {
      "text/plain": [
       "array([1, 4, 4])"
      ]
     },
     "execution_count": 24,
     "metadata": {},
     "output_type": "execute_result"
    }
   ],
   "source": [
    "flat[[0,5,8]] # this will give the sliced array with 0,5,8 index of flat array"
   ]
  },
  {
   "cell_type": "code",
   "execution_count": 25,
   "id": "62d4ec8c-76cb-453b-bd73-5f104a5f9d6f",
   "metadata": {},
   "outputs": [
    {
     "data": {
      "text/plain": [
       "array([4444444,       6,       2])"
      ]
     },
     "execution_count": 25,
     "metadata": {},
     "output_type": "execute_result"
    }
   ],
   "source": [
    "flat[[3,6,1]]"
   ]
  },
  {
   "cell_type": "code",
   "execution_count": 26,
   "id": "c73d4f3b-885f-4464-b908-e92b062d3114",
   "metadata": {},
   "outputs": [
    {
     "data": {
      "text/plain": [
       "array([4444444])"
      ]
     },
     "execution_count": 26,
     "metadata": {},
     "output_type": "execute_result"
    }
   ],
   "source": [
    "flat[flat>23] # we will only get elements greater than 23"
   ]
  },
  {
   "cell_type": "code",
   "execution_count": 27,
   "id": "8ffc7360-b099-497f-8bad-d3b685b29e51",
   "metadata": {},
   "outputs": [],
   "source": [
    "arr = np.array([[1,2,3],[4,5,6],[7,8,9]])"
   ]
  },
  {
   "cell_type": "code",
   "execution_count": 31,
   "id": "677387ad-025a-49ef-ad67-c2359dd38efa",
   "metadata": {},
   "outputs": [],
   "source": [
    "a = np.array([1.1, 2.2, 3.3],dtype = 'int32')"
   ]
  },
  {
   "cell_type": "code",
   "execution_count": 32,
   "id": "57053960-939c-46d4-a8b6-30732803b69d",
   "metadata": {},
   "outputs": [
    {
     "data": {
      "text/plain": [
       "array([1, 2, 3], dtype=int32)"
      ]
     },
     "execution_count": 32,
     "metadata": {},
     "output_type": "execute_result"
    }
   ],
   "source": [
    "a"
   ]
  },
  {
   "cell_type": "code",
   "execution_count": 33,
   "id": "6ca72db9-87a0-4ca6-80b8-d37e83b7be9e",
   "metadata": {},
   "outputs": [],
   "source": [
    "b = np.array([1, 2, 3, 4, 5, 6])"
   ]
  },
  {
   "cell_type": "code",
   "execution_count": 34,
   "id": "a963d78f-a937-4bd8-bf26-a17b023d05b8",
   "metadata": {},
   "outputs": [
    {
     "data": {
      "text/plain": [
       "array([2, 4, 6])"
      ]
     },
     "execution_count": 34,
     "metadata": {},
     "output_type": "execute_result"
    }
   ],
   "source": [
    "b[b%2 ==0]"
   ]
  },
  {
   "cell_type": "code",
   "execution_count": 41,
   "id": "80344703-d642-4d1b-807f-33e2ec9bfc71",
   "metadata": {},
   "outputs": [],
   "source": [
    "c = np.arange(1,10)"
   ]
  },
  {
   "cell_type": "code",
   "execution_count": 42,
   "id": "e90b9acd-1292-4ab9-a751-c3aa5279e662",
   "metadata": {},
   "outputs": [
    {
     "data": {
      "text/plain": [
       "array([1, 2, 3, 4, 5, 6, 7, 8, 9])"
      ]
     },
     "execution_count": 42,
     "metadata": {},
     "output_type": "execute_result"
    }
   ],
   "source": [
    "c"
   ]
  },
  {
   "cell_type": "code",
   "execution_count": 43,
   "id": "f23981ed-2297-4769-bd09-cb94ec151be7",
   "metadata": {},
   "outputs": [
    {
     "data": {
      "text/plain": [
       "array([[1, 2, 3],\n",
       "       [4, 5, 6],\n",
       "       [7, 8, 9]])"
      ]
     },
     "execution_count": 43,
     "metadata": {},
     "output_type": "execute_result"
    }
   ],
   "source": [
    "c.reshape(3,3)"
   ]
  },
  {
   "cell_type": "code",
   "execution_count": 44,
   "id": "4cab6cee-015c-4f7f-b995-94b856a6bf3c",
   "metadata": {},
   "outputs": [
    {
     "data": {
      "text/plain": [
       "array([4444444])"
      ]
     },
     "execution_count": 44,
     "metadata": {},
     "output_type": "execute_result"
    }
   ],
   "source": [
    "flat[flat>50]"
   ]
  },
  {
   "cell_type": "code",
   "execution_count": null,
   "id": "05ae177c-5582-4d24-a5b5-98280ff617ca",
   "metadata": {},
   "outputs": [],
   "source": []
  }
 ],
 "metadata": {
  "kernelspec": {
   "display_name": "Python 3 (ipykernel)",
   "language": "python",
   "name": "python3"
  },
  "language_info": {
   "codemirror_mode": {
    "name": "ipython",
    "version": 3
   },
   "file_extension": ".py",
   "mimetype": "text/x-python",
   "name": "python",
   "nbconvert_exporter": "python",
   "pygments_lexer": "ipython3",
   "version": "3.13.5"
  }
 },
 "nbformat": 4,
 "nbformat_minor": 5
}
