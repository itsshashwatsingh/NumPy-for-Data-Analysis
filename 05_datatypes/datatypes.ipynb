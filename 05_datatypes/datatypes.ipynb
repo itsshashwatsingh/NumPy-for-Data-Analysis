{
 "cells": [
  {
   "cell_type": "code",
   "execution_count": 1,
   "id": "62ba0c7d-f961-4f68-afdc-eb2159b87eac",
   "metadata": {},
   "outputs": [],
   "source": [
    "import numpy as np\n",
    " \n",
    "arr = np.array([1, 2, 3, 4, 5])"
   ]
  },
  {
   "cell_type": "code",
   "execution_count": 2,
   "id": "7fc42f7d-8531-4417-bfc7-d206a3724855",
   "metadata": {},
   "outputs": [
    {
     "data": {
      "text/plain": [
       "dtype('int64')"
      ]
     },
     "execution_count": 2,
     "metadata": {},
     "output_type": "execute_result"
    }
   ],
   "source": [
    "arr.dtype"
   ]
  },
  {
   "cell_type": "markdown",
   "id": "f6fa4c3f-736a-4f66-bab8-36cdd8aac33c",
   "metadata": {},
   "source": [
    "lets change it to int32 this will make it more optimised"
   ]
  },
  {
   "cell_type": "code",
   "execution_count": 3,
   "id": "f19ddf24-daec-4c7a-82aa-49f58a1eeec0",
   "metadata": {},
   "outputs": [
    {
     "data": {
      "text/plain": [
       "array([1, 2, 3, 4, 5], dtype=int32)"
      ]
     },
     "execution_count": 3,
     "metadata": {},
     "output_type": "execute_result"
    }
   ],
   "source": [
    "arr.astype('int32')"
   ]
  },
  {
   "cell_type": "code",
   "execution_count": 4,
   "id": "6bd8fb20-0d7e-473f-83b7-9c0b7dccbcb2",
   "metadata": {},
   "outputs": [
    {
     "data": {
      "text/plain": [
       "array([1., 2., 3., 4., 5.], dtype=float32)"
      ]
     },
     "execution_count": 4,
     "metadata": {},
     "output_type": "execute_result"
    }
   ],
   "source": [
    "arr.astype('float32')"
   ]
  },
  {
   "cell_type": "markdown",
   "id": "f4c91f4e-21b4-47cd-9089-034e41c2cd61",
   "metadata": {},
   "source": [
    "or we can just create a new array with different datatype"
   ]
  },
  {
   "cell_type": "code",
   "execution_count": 6,
   "id": "68ed969f-c156-4ef6-b328-c102ff9f3d1c",
   "metadata": {},
   "outputs": [],
   "source": [
    "b =  arr = np.array([1, 2, 3, 4, 5],dtype= 'int32')"
   ]
  },
  {
   "cell_type": "code",
   "execution_count": 7,
   "id": "8a734a1e-665d-4e6d-83a7-27b1c2c0ef67",
   "metadata": {},
   "outputs": [
    {
     "data": {
      "text/plain": [
       "array([1, 2, 3, 4, 5], dtype=int32)"
      ]
     },
     "execution_count": 7,
     "metadata": {},
     "output_type": "execute_result"
    }
   ],
   "source": [
    "b"
   ]
  },
  {
   "cell_type": "markdown",
   "id": "25e5a481-b058-4400-9c82-eb046f7f6c9f",
   "metadata": {},
   "source": [
    "its depends on use case wherther to use float32 or float64 its not necessary that we always have to use float32 instead of float64 sometimes| it might affect the precision of data "
   ]
  },
  {
   "cell_type": "markdown",
   "id": "049ea47e-81ac-42e8-b32c-0622af978e6c",
   "metadata": {},
   "source": [
    "we can also check the the number of bytes memory used in an array"
   ]
  },
  {
   "cell_type": "code",
   "execution_count": 8,
   "id": "c3aa9fa5-9496-437d-9578-b68d60e71eab",
   "metadata": {},
   "outputs": [
    {
     "data": {
      "text/plain": [
       "20"
      ]
     },
     "execution_count": 8,
     "metadata": {},
     "output_type": "execute_result"
    }
   ],
   "source": [
    "b.nbytes"
   ]
  },
  {
   "cell_type": "code",
   "execution_count": 10,
   "id": "0b73be6e-17dc-484b-bad3-98c004bfb58f",
   "metadata": {},
   "outputs": [
    {
     "data": {
      "text/plain": [
       "20"
      ]
     },
     "execution_count": 10,
     "metadata": {},
     "output_type": "execute_result"
    }
   ],
   "source": [
    "arr.nbytes"
   ]
  },
  {
   "cell_type": "code",
   "execution_count": null,
   "id": "8edf60b7-0522-42c8-b0e8-82cf26aef84a",
   "metadata": {},
   "outputs": [],
   "source": []
  }
 ],
 "metadata": {
  "kernelspec": {
   "display_name": "Python 3 (ipykernel)",
   "language": "python",
   "name": "python3"
  },
  "language_info": {
   "codemirror_mode": {
    "name": "ipython",
    "version": 3
   },
   "file_extension": ".py",
   "mimetype": "text/x-python",
   "name": "python",
   "nbconvert_exporter": "python",
   "pygments_lexer": "ipython3",
   "version": "3.13.5"
  }
 },
 "nbformat": 4,
 "nbformat_minor": 5
}
