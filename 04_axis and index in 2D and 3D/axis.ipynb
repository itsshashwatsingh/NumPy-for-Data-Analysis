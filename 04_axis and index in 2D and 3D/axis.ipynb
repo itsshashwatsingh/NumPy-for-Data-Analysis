{
 "cells": [
  {
   "cell_type": "code",
   "execution_count": 1,
   "id": "61dad709-e489-455d-bb88-f41baaa12ea8",
   "metadata": {},
   "outputs": [],
   "source": [
    "import numpy as np\n",
    "arr = np.array([[1,2,3],[4,5,6],[7,8,9]])\n"
   ]
  },
  {
   "cell_type": "code",
   "execution_count": 22,
   "id": "f41dd77a-6417-433d-aff2-f527e38eef1f",
   "metadata": {},
   "outputs": [
    {
     "data": {
      "text/plain": [
       "array([[1, 2, 3],\n",
       "       [4, 5, 6],\n",
       "       [7, 8, 9]])"
      ]
     },
     "execution_count": 22,
     "metadata": {},
     "output_type": "execute_result"
    }
   ],
   "source": [
    "arr"
   ]
  },
  {
   "cell_type": "code",
   "execution_count": 5,
   "id": "28b16222-988f-4255-9832-5c428d733d43",
   "metadata": {},
   "outputs": [
    {
     "data": {
      "text/plain": [
       "array([1, 2, 3])"
      ]
     },
     "execution_count": 5,
     "metadata": {},
     "output_type": "execute_result"
    }
   ],
   "source": [
    "arr[0]"
   ]
  },
  {
   "cell_type": "code",
   "execution_count": 6,
   "id": "f9368f18-322b-4dc4-83df-0115945ca57e",
   "metadata": {},
   "outputs": [
    {
     "data": {
      "text/plain": [
       "np.int64(3)"
      ]
     },
     "execution_count": 6,
     "metadata": {},
     "output_type": "execute_result"
    }
   ],
   "source": [
    "arr[0][2] # which is similar to list"
   ]
  },
  {
   "cell_type": "markdown",
   "id": "d5ed1644-6f71-4962-a394-997c3cf07ca9",
   "metadata": {},
   "source": [
    "now lets use axis"
   ]
  },
  {
   "cell_type": "code",
   "execution_count": 7,
   "id": "34e39ed6-a016-4bb7-a34c-ad062713d894",
   "metadata": {},
   "outputs": [
    {
     "data": {
      "text/plain": [
       "array([12, 15, 18])"
      ]
     },
     "execution_count": 7,
     "metadata": {},
     "output_type": "execute_result"
    }
   ],
   "source": [
    "np.sum(arr,axis = 0) # this will give sum of all the values in each row here 0 refers to row"
   ]
  },
  {
   "cell_type": "code",
   "execution_count": 8,
   "id": "248ae7fa-3c5a-42bf-966c-fe1b7b1a093a",
   "metadata": {},
   "outputs": [
    {
     "data": {
      "text/plain": [
       "array([ 6, 15, 24])"
      ]
     },
     "execution_count": 8,
     "metadata": {},
     "output_type": "execute_result"
    }
   ],
   "source": [
    "np.sum(arr,axis = 1) # this will give sum of all the values in each column here 1 refers to column"
   ]
  },
  {
   "cell_type": "code",
   "execution_count": 14,
   "id": "850acbb1-102d-4206-98bd-78f648a3c173",
   "metadata": {},
   "outputs": [
    {
     "data": {
      "text/plain": [
       "array([5, 6])"
      ]
     },
     "execution_count": 14,
     "metadata": {},
     "output_type": "execute_result"
    }
   ],
   "source": [
    "arr[1][1:3] # just like slicing works in python lists"
   ]
  },
  {
   "cell_type": "code",
   "execution_count": 26,
   "id": "96065dc3-8887-45cd-8141-3b8751773a5e",
   "metadata": {},
   "outputs": [
    {
     "data": {
      "text/plain": [
       "array([[2, 3],\n",
       "       [5, 6]])"
      ]
     },
     "execution_count": 26,
     "metadata": {},
     "output_type": "execute_result"
    }
   ],
   "source": [
    "arr[0:2,1:3]"
   ]
  },
  {
   "cell_type": "code",
   "execution_count": 35,
   "id": "287e9529-d2b3-4491-b3f8-2d2f72dd4a8d",
   "metadata": {},
   "outputs": [
    {
     "data": {
      "text/plain": [
       "array([[1, 2],\n",
       "       [4, 5],\n",
       "       [7, 8]])"
      ]
     },
     "execution_count": 35,
     "metadata": {},
     "output_type": "execute_result"
    }
   ],
   "source": [
    "arr[0:3,0:2] # arr(slicing rows, slicing column)"
   ]
  },
  {
   "cell_type": "markdown",
   "id": "7ce32e10-582f-441a-b160-dad24bfec021",
   "metadata": {},
   "source": [
    "## 3D arrays"
   ]
  },
  {
   "cell_type": "code",
   "execution_count": 37,
   "id": "6b8fac7c-0970-4ff1-aef7-dc04bb42a5d0",
   "metadata": {},
   "outputs": [],
   "source": [
    "arr3D = np.array([\n",
    "                  \n",
    "                  [[1, 2, 3],\n",
    "                   [4, 5, 6]],\n",
    "                  \n",
    "                  [[7, 8,  9 ], \n",
    "                  [10, 11, 12]]\n",
    "             \n",
    "                 ])\n",
    " "
   ]
  },
  {
   "cell_type": "markdown",
   "id": "b02eafc9-8870-47ab-b4ba-fd0dde20a480",
   "metadata": {},
   "source": [
    "we have 2 2D array inside an array this is wat 3D array looks like"
   ]
  },
  {
   "cell_type": "markdown",
   "id": "748b34d2-b0fb-4e28-844e-0917a98d091f",
   "metadata": {},
   "source": [
    "slicing in 3D array"
   ]
  },
  {
   "cell_type": "code",
   "execution_count": 38,
   "id": "ec333382-5b62-4cd7-b389-8d1a668160ba",
   "metadata": {},
   "outputs": [
    {
     "data": {
      "text/plain": [
       "np.int64(6)"
      ]
     },
     "execution_count": 38,
     "metadata": {},
     "output_type": "execute_result"
    }
   ],
   "source": [
    "arr3D[0 , 1 , 2]  # so basically its saying give me from 1st 2d array i.e 0 ; from 2 row of 1st 2d array i.e [4, 5, 6] ; give 3rd element i.e 6"
   ]
  },
  {
   "cell_type": "code",
   "execution_count": 39,
   "id": "44dc2d18-9568-4e50-b3e9-4e8a78c4c7c2",
   "metadata": {},
   "outputs": [
    {
     "data": {
      "text/plain": [
       "array([[1, 2, 3],\n",
       "       [7, 8, 9]])"
      ]
     },
     "execution_count": 39,
     "metadata": {},
     "output_type": "execute_result"
    }
   ],
   "source": [
    "arr3D[:, 0 , :] # ':' this means from both 1st and 2nd 2D array , from 1st row of both i.e [1, 2, 3] and  [7, 8,  9 ] , give all values ':'"
   ]
  },
  {
   "cell_type": "markdown",
   "id": "25bfdf9b-a4f2-4bfe-97b3-08aaf8a21aca",
   "metadata": {},
   "source": [
    "using this slicing we can change data as well"
   ]
  },
  {
   "cell_type": "code",
   "execution_count": 40,
   "id": "bef23e50-5caf-4922-9364-6d06d25f33b5",
   "metadata": {},
   "outputs": [],
   "source": [
    "arr3D[:, 0 , :] = 3"
   ]
  },
  {
   "cell_type": "code",
   "execution_count": 41,
   "id": "7a19a147-987c-43f1-96e2-4e17b5d97dff",
   "metadata": {},
   "outputs": [
    {
     "data": {
      "text/plain": [
       "array([[[ 3,  3,  3],\n",
       "        [ 4,  5,  6]],\n",
       "\n",
       "       [[ 3,  3,  3],\n",
       "        [10, 11, 12]]])"
      ]
     },
     "execution_count": 41,
     "metadata": {},
     "output_type": "execute_result"
    }
   ],
   "source": [
    "arr3D"
   ]
  },
  {
   "cell_type": "code",
   "execution_count": 44,
   "id": "d0d14ab9-46aa-4b11-b564-8a478eee74a4",
   "metadata": {},
   "outputs": [],
   "source": [
    "arr3D[0 , 1 , 2] = 444444"
   ]
  },
  {
   "cell_type": "code",
   "execution_count": 45,
   "id": "1c5ad197-5e0e-486d-8b20-abdd38b2f38d",
   "metadata": {},
   "outputs": [
    {
     "data": {
      "text/plain": [
       "array([[[     3,      3,      3],\n",
       "        [     4,      5, 444444]],\n",
       "\n",
       "       [[     3,      3,      3],\n",
       "        [    10,     11,     12]]])"
      ]
     },
     "execution_count": 45,
     "metadata": {},
     "output_type": "execute_result"
    }
   ],
   "source": [
    "arr3D"
   ]
  },
  {
   "cell_type": "code",
   "execution_count": null,
   "id": "55a41553-c510-4e43-adf3-feecf7619e3a",
   "metadata": {},
   "outputs": [],
   "source": []
  }
 ],
 "metadata": {
  "kernelspec": {
   "display_name": "Python 3 (ipykernel)",
   "language": "python",
   "name": "python3"
  },
  "language_info": {
   "codemirror_mode": {
    "name": "ipython",
    "version": 3
   },
   "file_extension": ".py",
   "mimetype": "text/x-python",
   "name": "python",
   "nbconvert_exporter": "python",
   "pygments_lexer": "ipython3",
   "version": "3.13.5"
  }
 },
 "nbformat": 4,
 "nbformat_minor": 5
}
